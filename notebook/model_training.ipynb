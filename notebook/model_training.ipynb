{
 "cells": [
  {
   "cell_type": "markdown",
   "id": "6585b83d",
   "metadata": {},
   "source": [
    "# <p style=\"padding:10px;background-color:#87CEEB ;margin:10;color:#000000;font-family:newtimeroman;font-size:100%;text-align:center;border-radius: 10px 10px ;overflow:hidden;font-weight:50\">Model Training on Personality Dataset</p>"
   ]
  },
  {
   "cell_type": "code",
   "execution_count": 74,
   "id": "c3ff36a1",
   "metadata": {},
   "outputs": [],
   "source": [
    "# Basic Import\n",
    "import numpy as np\n",
    "import pandas as pd\n",
    "import matplotlib.pyplot as plt \n",
    "import seaborn as sns\n",
    "\n",
    "from sklearn.preprocessing import StandardScaler, LabelEncoder, OneHotEncoder\n",
    "from sklearn.model_selection import train_test_split, GridSearchCV\n",
    "from sklearn.metrics import accuracy_score, confusion_matrix, classification_report\n",
    "\n",
    "from sklearn.pipeline import Pipeline\n",
    "from sklearn.compose import ColumnTransformer\n",
    "from sklearn.impute import SimpleImputer\n",
    "\n",
    "from sklearn.ensemble import RandomForestClassifier\n",
    "from sklearn.linear_model import LogisticRegression\n",
    "from sklearn.svm import SVC\n",
    "from sklearn.tree import DecisionTreeClassifier\n",
    "from sklearn.neighbors import KNeighborsClassifier\n",
    "from joblib import dump, load\n",
    "from xgboost import XGBClassifier\n",
    "import warnings\n",
    "warnings.filterwarnings(\"ignore\")"
   ]
  },
  {
   "cell_type": "markdown",
   "id": "47dab573",
   "metadata": {},
   "source": [
    "# <p style=\"padding:10px;background-color:#87CEEB ;margin:10;color:#000000;font-family:newtimeroman;font-size:100%;text-align:center;border-radius: 10px 10px ;overflow:hidden;font-weight:50\">Read the Dataset</p>"
   ]
  },
  {
   "cell_type": "code",
   "execution_count": 75,
   "id": "3e733708",
   "metadata": {},
   "outputs": [
    {
     "name": "stdout",
     "output_type": "stream",
     "text": [
      "<class 'pandas.core.frame.DataFrame'>\n",
      "RangeIndex: 2900 entries, 0 to 2899\n",
      "Data columns (total 8 columns):\n",
      " #   Column                     Non-Null Count  Dtype  \n",
      "---  ------                     --------------  -----  \n",
      " 0   Time_spent_Alone           2837 non-null   float64\n",
      " 1   Stage_fear                 2827 non-null   object \n",
      " 2   Social_event_attendance    2838 non-null   float64\n",
      " 3   Going_outside              2834 non-null   float64\n",
      " 4   Drained_after_socializing  2848 non-null   object \n",
      " 5   Friends_circle_size        2823 non-null   float64\n",
      " 6   Post_frequency             2835 non-null   float64\n",
      " 7   Personality                2900 non-null   object \n",
      "dtypes: float64(5), object(3)\n",
      "memory usage: 181.4+ KB\n"
     ]
    },
    {
     "data": {
      "text/html": [
       "<div>\n",
       "<style scoped>\n",
       "    .dataframe tbody tr th:only-of-type {\n",
       "        vertical-align: middle;\n",
       "    }\n",
       "\n",
       "    .dataframe tbody tr th {\n",
       "        vertical-align: top;\n",
       "    }\n",
       "\n",
       "    .dataframe thead th {\n",
       "        text-align: right;\n",
       "    }\n",
       "</style>\n",
       "<table border=\"1\" class=\"dataframe\">\n",
       "  <thead>\n",
       "    <tr style=\"text-align: right;\">\n",
       "      <th></th>\n",
       "      <th>Time_spent_Alone</th>\n",
       "      <th>Stage_fear</th>\n",
       "      <th>Social_event_attendance</th>\n",
       "      <th>Going_outside</th>\n",
       "      <th>Drained_after_socializing</th>\n",
       "      <th>Friends_circle_size</th>\n",
       "      <th>Post_frequency</th>\n",
       "      <th>Personality</th>\n",
       "    </tr>\n",
       "  </thead>\n",
       "  <tbody>\n",
       "    <tr>\n",
       "      <th>0</th>\n",
       "      <td>4.0</td>\n",
       "      <td>No</td>\n",
       "      <td>4.0</td>\n",
       "      <td>6.0</td>\n",
       "      <td>No</td>\n",
       "      <td>13.0</td>\n",
       "      <td>5.0</td>\n",
       "      <td>Extrovert</td>\n",
       "    </tr>\n",
       "    <tr>\n",
       "      <th>1</th>\n",
       "      <td>9.0</td>\n",
       "      <td>Yes</td>\n",
       "      <td>0.0</td>\n",
       "      <td>0.0</td>\n",
       "      <td>Yes</td>\n",
       "      <td>0.0</td>\n",
       "      <td>3.0</td>\n",
       "      <td>Introvert</td>\n",
       "    </tr>\n",
       "    <tr>\n",
       "      <th>2</th>\n",
       "      <td>9.0</td>\n",
       "      <td>Yes</td>\n",
       "      <td>1.0</td>\n",
       "      <td>2.0</td>\n",
       "      <td>Yes</td>\n",
       "      <td>5.0</td>\n",
       "      <td>2.0</td>\n",
       "      <td>Introvert</td>\n",
       "    </tr>\n",
       "    <tr>\n",
       "      <th>3</th>\n",
       "      <td>0.0</td>\n",
       "      <td>No</td>\n",
       "      <td>6.0</td>\n",
       "      <td>7.0</td>\n",
       "      <td>No</td>\n",
       "      <td>14.0</td>\n",
       "      <td>8.0</td>\n",
       "      <td>Extrovert</td>\n",
       "    </tr>\n",
       "    <tr>\n",
       "      <th>4</th>\n",
       "      <td>3.0</td>\n",
       "      <td>No</td>\n",
       "      <td>9.0</td>\n",
       "      <td>4.0</td>\n",
       "      <td>No</td>\n",
       "      <td>8.0</td>\n",
       "      <td>5.0</td>\n",
       "      <td>Extrovert</td>\n",
       "    </tr>\n",
       "  </tbody>\n",
       "</table>\n",
       "</div>"
      ],
      "text/plain": [
       "   Time_spent_Alone Stage_fear  Social_event_attendance  Going_outside  \\\n",
       "0               4.0         No                      4.0            6.0   \n",
       "1               9.0        Yes                      0.0            0.0   \n",
       "2               9.0        Yes                      1.0            2.0   \n",
       "3               0.0         No                      6.0            7.0   \n",
       "4               3.0         No                      9.0            4.0   \n",
       "\n",
       "  Drained_after_socializing  Friends_circle_size  Post_frequency Personality  \n",
       "0                        No                 13.0             5.0   Extrovert  \n",
       "1                       Yes                  0.0             3.0   Introvert  \n",
       "2                       Yes                  5.0             2.0   Introvert  \n",
       "3                        No                 14.0             8.0   Extrovert  \n",
       "4                        No                  8.0             5.0   Extrovert  "
      ]
     },
     "execution_count": 75,
     "metadata": {},
     "output_type": "execute_result"
    }
   ],
   "source": [
    "df= pd.read_csv(r'/Users/user/ML_course/4th_month/wrapped/notebook/data/personality_dataset.csv')\n",
    "df.info()\n",
    "df.head()"
   ]
  },
  {
   "cell_type": "markdown",
   "id": "dba3727b",
   "metadata": {},
   "source": [
    "# <p style=\"padding:10px;background-color:#87CEEB ;margin:10;color:#000000;font-family:newtimeroman;font-size:100%;text-align:center;border-radius: 10px 10px ;overflow:hidden;font-weight:50\">Drop the unnecessary columns and duplicated rows</p>"
   ]
  },
  {
   "cell_type": "code",
   "execution_count": 76,
   "id": "1503aa23",
   "metadata": {},
   "outputs": [],
   "source": [
    "df.drop(['Post_frequency'], axis=1, inplace=True)\n",
    "df.drop_duplicates(inplace=True)"
   ]
  },
  {
   "cell_type": "markdown",
   "id": "3a658b8c",
   "metadata": {},
   "source": [
    "# <p style=\"padding:10px;background-color:#87CEEB ;margin:10;color:#000000;font-family:newtimeroman;font-size:100%;text-align:center;border-radius: 10px 10px ;overflow:hidden;font-weight:50\">Splitting the data into input(x) and output(y) features</p>"
   ]
  },
  {
   "cell_type": "code",
   "execution_count": 77,
   "id": "24d3b76d",
   "metadata": {},
   "outputs": [],
   "source": [
    "# mapping category of personality to numerical values\n",
    "df['Personality'] = df['Personality'].map({\n",
    "    'Extrovert': 0,\n",
    "    'Introvert': 1,\n",
    "})"
   ]
  },
  {
   "cell_type": "code",
   "execution_count": 78,
   "id": "87f8a4fa",
   "metadata": {},
   "outputs": [],
   "source": [
    "x = df.drop('Personality', axis=1)\n",
    "y = df['Personality']\n",
    "\n",
    "cat_cols = x.select_dtypes(include=['object']).columns.tolist()\n",
    "num_cols = x.select_dtypes(include=['int64', 'float64']).columns.tolist()\n"
   ]
  },
  {
   "cell_type": "markdown",
   "id": "834ed6f1",
   "metadata": {},
   "source": [
    "# <p style=\"padding:10px;background-color:#87CEEB ;margin:10;color:#000000;font-family:newtimeroman;font-size:100%;text-align:center;border-radius: 10px 10px ;overflow:hidden;font-weight:50\">Creating Data Transformation Pipeline</p>"
   ]
  },
  {
   "cell_type": "code",
   "execution_count": 79,
   "id": "8bb0347c",
   "metadata": {},
   "outputs": [],
   "source": [
    "# Preprocessing\n",
    "numerical_transformer = Pipeline(steps=[\n",
    "    ('imputer', SimpleImputer(strategy='mean')),\n",
    "    ('scaler', StandardScaler())\n",
    "])\n",
    "categorical_transformer = Pipeline(steps=[\n",
    "    ('imputer', SimpleImputer(strategy='most_frequent')),\n",
    "    ('onehot', OneHotEncoder(handle_unknown='ignore'))\n",
    "])\n",
    "preprocessor = ColumnTransformer(\n",
    "    transformers=[\n",
    "        ('num', numerical_transformer, num_cols),\n",
    "        ('cat', categorical_transformer, cat_cols)\n",
    "    ]\n",
    ")"
   ]
  },
  {
   "cell_type": "markdown",
   "id": "23c2e565",
   "metadata": {},
   "source": [
    "# <p style=\"padding:10px;background-color:#87CEEB ;margin:10;color:#000000;font-family:newtimeroman;font-size:100%;text-align:center;border-radius: 10px 10px ;overflow:hidden;font-weight:50\">Splitting the data into training and testing datasets</p>"
   ]
  },
  {
   "cell_type": "code",
   "execution_count": 80,
   "id": "dd98b190",
   "metadata": {},
   "outputs": [],
   "source": [
    "x_train, x_test, y_train, y_test = train_test_split(x, y, test_size=0.2, random_state=42)"
   ]
  },
  {
   "cell_type": "markdown",
   "id": "dbab33f6",
   "metadata": {},
   "source": [
    "# <p style=\"padding:10px;background-color:#87CEEB ;margin:10;color:#000000;font-family:newtimeroman;font-size:100%;text-align:center;border-radius: 10px 10px ;overflow:hidden;font-weight:50\">Baseline Models training</p>"
   ]
  },
  {
   "cell_type": "code",
   "execution_count": 81,
   "id": "7e070d7a",
   "metadata": {},
   "outputs": [
    {
     "name": "stdout",
     "output_type": "stream",
     "text": [
      "Model Random Forest: RandomForestClassifier\n",
      "Accuracy: 0.8648\n",
      "--------------------------------------------------\n",
      "Model Logistic Regression: LogisticRegression\n",
      "Accuracy: 0.8789\n",
      "--------------------------------------------------\n",
      "Model Support Vector Machine: SVC\n",
      "Accuracy: 0.9155\n",
      "--------------------------------------------------\n",
      "Model Decision Tree: DecisionTreeClassifier\n",
      "Accuracy: 0.8056\n",
      "--------------------------------------------------\n",
      "Model K-Nearest Neighbors: KNeighborsClassifier\n",
      "Accuracy: 0.9014\n",
      "--------------------------------------------------\n",
      "Model XGBoost: XGBClassifier\n",
      "Accuracy: 0.8732\n",
      "--------------------------------------------------\n"
     ]
    }
   ],
   "source": [
    "# Full pipeline\n",
    "models = {\n",
    "    \"Random Forest\": RandomForestClassifier(n_estimators=100, random_state=42),\n",
    "    \"Logistic Regression\": LogisticRegression(max_iter=1000),\n",
    "    \"Support Vector Machine\": SVC(),\n",
    "    \"Decision Tree\": DecisionTreeClassifier(random_state=42),\n",
    "    \"K-Nearest Neighbors\": KNeighborsClassifier(n_neighbors=5),\n",
    "    \"XGBoost\": XGBClassifier(use_label_encoder=False, eval_metric='logloss')\n",
    "}\n",
    "\n",
    "results = {}\n",
    "\n",
    "for name, clf in models.items():\n",
    "    # Create pipeline with current model\n",
    "    pipeline = Pipeline(steps=[\n",
    "        ('preprocessor', preprocessor),\n",
    "        ('model', clf)\n",
    "    ])\n",
    "    \n",
    "    # Fit model\n",
    "    pipeline.fit(x_train, y_train)\n",
    "    \n",
    "    # Predict\n",
    "    y_pred = pipeline.predict(x_test)\n",
    "    \n",
    "    # Evaluate\n",
    "    accuracy = accuracy_score(y_test, y_pred)\n",
    "    print(f\"Model {name}: {clf.__class__.__name__}\")\n",
    "    print(f\"Accuracy: {accuracy:.4f}\")\n",
    "    print(\"-\" * 50)\n",
    "    \n",
    "    # Store results\n",
    "    results[name] = {\n",
    "        \"model\": clf.__class__.__name__,\n",
    "        \"accuracy\": accuracy\n",
    "    }\n",
    "\n"
   ]
  },
  {
   "cell_type": "markdown",
   "id": "c54000c5",
   "metadata": {},
   "source": [
    "# <p style=\"padding:10px;background-color:#87CEEB ;margin:10;color:#000000;font-family:newtimeroman;font-size:100%;text-align:center;border-radius: 10px 10px ;overflow:hidden;font-weight:50\">Model Evaluation and hyperparameter tuning</p>"
   ]
  },
  {
   "cell_type": "code",
   "execution_count": 82,
   "id": "8dc93414",
   "metadata": {},
   "outputs": [],
   "source": [
    "def evaluate_model(x_train, y_train, x_test, y_test, models: dict, param:  dict):\n",
    "    try:\n",
    "        report = {}\n",
    "        best_model_obj = None\n",
    "        best_score = 0\n",
    "        best_model_name = None\n",
    "        x_train1 = preprocessor.fit_transform(x_train)\n",
    "        x_test1 = preprocessor.transform(x_test)\n",
    "        \n",
    "        # Ensure x_train is transformed before fitting models\n",
    "\n",
    "        for model_name, model in models.items():\n",
    "            param_grid = param.get(model_name, {})\n",
    "            if not param_grid:\n",
    "                print(f\"⚠️ Warning: No param grid found for {model_name}, using defaults.\")\n",
    "            gs = GridSearchCV(model, param_grid, cv=3, n_jobs=-1)\n",
    "            \n",
    "            gs.fit(x_train1, y_train)\n",
    "            best_model = gs.best_estimator_\n",
    "\n",
    "            y_test_pred = best_model.predict(x_test1)\n",
    "            test_score = accuracy_score(y_test, y_test_pred)\n",
    "\n",
    "            report[model_name] = test_score\n",
    "            \n",
    "            if test_score > best_score:\n",
    "                best_score = test_score\n",
    "                best_model_obj = best_model\n",
    "                best_model_name = model_name\n",
    "\n",
    "        return report, best_model_obj, best_model_name\n",
    "\n",
    "    except Exception as e:\n",
    "        raise Exception(f\"Error in evaluate_models: {str(e)}\")\n"
   ]
  },
  {
   "cell_type": "code",
   "execution_count": 83,
   "id": "ebf517d0",
   "metadata": {},
   "outputs": [
    {
     "name": "stdout",
     "output_type": "stream",
     "text": [
      "✅ Best model after tuning: Random Forest with accuracy: 0.9155\n",
      "Model accuracy is above threshold. Saving the model...\n",
      "Model saved at: as a 'trained_model.joblib'\n",
      "{'Random Forest': 0.9154929577464789, 'Logistic Regression': 0.9154929577464789, 'Support Vector Machine': 0.9154929577464789, 'Decision Tree': 0.9154929577464789, 'K-Nearest Neighbors': 0.9126760563380282, 'XGBoost': 0.9154929577464789}\n"
     ]
    }
   ],
   "source": [
    "models = {\n",
    "        \"Random Forest\": RandomForestClassifier(),\n",
    "        \"Logistic Regression\": LogisticRegression(),\n",
    "        \"Support Vector Machine\": SVC(),\n",
    "        \"Decision Tree\": DecisionTreeClassifier(),\n",
    "        \"K-Nearest Neighbors\": KNeighborsClassifier(),\n",
    "        \"XGBoost\": XGBClassifier( eval_metric='logloss')\n",
    "    }\n",
    "    \n",
    "params = {\n",
    "        \"Random Forest\": {\n",
    "            \"n_estimators\": [50, 100, 200],\n",
    "            \"max_depth\": [None, 10, 20],\n",
    "            \"min_samples_split\": [2, 5, 10],\n",
    "            \"min_samples_leaf\": [1, 2, 4]\n",
    "        },\n",
    "\n",
    "        \"Logistic Regression\": {\n",
    "            \"C\": [0.01, 0.1, 1, 10, 100],\n",
    "            \"solver\": [\"liblinear\", \"lbfgs\"],\n",
    "            \"penalty\": [\"l2\"],\n",
    "            \"max_iter\": [100, 200]\n",
    "        },\n",
    "\n",
    "        \"Support Vector Machine\": {\n",
    "            \"C\": [0.1, 1, 10],\n",
    "            \"kernel\": [\"linear\", \"rbf\", \"poly\"],\n",
    "            \"gamma\": [\"scale\", \"auto\"]\n",
    "        },\n",
    "\n",
    "        \"Decision Tree\": {\n",
    "            \"criterion\": [\"gini\", \"entropy\", \"log_loss\"],\n",
    "            \"max_depth\": [None, 10, 20, 30],\n",
    "            \"min_samples_split\": [2, 5, 10],\n",
    "            \"min_samples_leaf\": [1, 2, 4]\n",
    "        },\n",
    "\n",
    "        \"K-Nearest Neighbors\": {\n",
    "            \"n_neighbors\": [3, 5, 7, 9],\n",
    "            \"weights\": [\"uniform\", \"distance\"],\n",
    "            \"metric\": [\"euclidean\", \"manhattan\"]\n",
    "        },\n",
    "\n",
    "        \"XGBoost\": {\n",
    "            \"learning_rate\": [0.01, 0.05, 0.1],\n",
    "            \"n_estimators\": [50, 100, 200],\n",
    "            \"max_depth\": [3, 5, 7],\n",
    "            \"subsample\": [0.7, 0.8, 1.0]\n",
    "        }\n",
    "    }\n",
    "\n",
    "            \n",
    "model_report, best_model, best_model_name = evaluate_model(\n",
    "                x_train=x_train,\n",
    "                y_train=y_train,\n",
    "                x_test=x_test,\n",
    "                y_test=y_test,\n",
    "                models=models,\n",
    "                param=params\n",
    "            )\n",
    "\n",
    "best_model_accuracy = model_report[best_model_name]\n",
    "print(f\"✅ Best model after tuning: {best_model_name} with accuracy: {best_model_accuracy:.4f}\")\n",
    "\n",
    "if best_model_accuracy > 0.6:\n",
    "    print(\"Model accuracy is above threshold. Saving the model...\")\n",
    "    dump(best_model, 'trained_model.joblib')\n",
    "    \n",
    "    print(f\"Model saved at: as a 'trained_model.joblib'\")\n",
    "else:\n",
    "    print(\"Model accuracy below threshold. Model not saved.\")\n",
    "print(model_report)\n",
    "\n"
   ]
  },
  {
   "cell_type": "code",
   "execution_count": 84,
   "id": "9c91ebba",
   "metadata": {},
   "outputs": [
    {
     "name": "stdout",
     "output_type": "stream",
     "text": [
      "\n",
      "🔍 Model Comparison Summary:\n",
      "+------------------------+------------------------+------------+\n",
      "| Model Name             | Model Type             |   Accuracy |\n",
      "+========================+========================+============+\n",
      "| Support Vector Machine | SVC                    |     0.9155 |\n",
      "+------------------------+------------------------+------------+\n",
      "| K-Nearest Neighbors    | KNeighborsClassifier   |     0.9014 |\n",
      "+------------------------+------------------------+------------+\n",
      "| Logistic Regression    | LogisticRegression     |     0.8789 |\n",
      "+------------------------+------------------------+------------+\n",
      "| XGBoost                | XGBClassifier          |     0.8732 |\n",
      "+------------------------+------------------------+------------+\n",
      "| Random Forest          | RandomForestClassifier |     0.8648 |\n",
      "+------------------------+------------------------+------------+\n",
      "| Decision Tree          | DecisionTreeClassifier |     0.8056 |\n",
      "+------------------------+------------------------+------------+\n"
     ]
    }
   ],
   "source": [
    "from tabulate import tabulate\n",
    "\n",
    "# Sort results by accuracy\n",
    "sorted_results = sorted(results.items(), key=lambda x: x[1][\"accuracy\"], reverse=True)\n",
    "\n",
    "# Create table rows: [Model Name, Model Type, Accuracy]\n",
    "table_rows = [\n",
    "    [name, info[\"model\"], f\"{info['accuracy']:.4f}\"] for name, info in sorted_results\n",
    "]\n",
    "\n",
    "# Print as table\n",
    "print(\"\\n🔍 Model Comparison Summary:\")\n",
    "print(tabulate(table_rows, headers=[\"Model Name\", \"Model Type\", \"Accuracy\"], tablefmt=\"grid\"))\n"
   ]
  },
  {
   "cell_type": "code",
   "execution_count": null,
   "id": "efcbf052",
   "metadata": {},
   "outputs": [],
   "source": [
    "\n"
   ]
  }
 ],
 "metadata": {
  "kernelspec": {
   "display_name": "base",
   "language": "python",
   "name": "python3"
  },
  "language_info": {
   "codemirror_mode": {
    "name": "ipython",
    "version": 3
   },
   "file_extension": ".py",
   "mimetype": "text/x-python",
   "name": "python",
   "nbconvert_exporter": "python",
   "pygments_lexer": "ipython3",
   "version": "3.12.7"
  }
 },
 "nbformat": 4,
 "nbformat_minor": 5
}
